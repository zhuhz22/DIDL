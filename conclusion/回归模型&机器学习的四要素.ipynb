{
 "cells": [
  {
   "cell_type": "markdown",
   "metadata": {},
   "source": [
    "## 总结\n",
    "<mark>线性回归是建立R^n => R 的线性映射，softmax回归是建立 R^n => R^m 的线性映射，R^n均为自变量空间((气温，价格)in 线性回归，[像素空间] in softmax回归)<mark><p>\n",
    "线性回归将自变量与一个值建立映射，softmax将自变量与指向类别的参数建立线性映射<p>\n",
    "\n",
    "softmax函数转化“指向类别的参数”使其在[0,1]范围内便于分析<p>\n",
    "([注](#注))\n",
    "#### 数据集：\n",
    "数据集分为若干组 自变量(feature)及其对应的真实值(label) <p>\n",
    "分为训练集和测试集，训练集用于算损失函数---->优化器调节W,b；测试集用于考察训练完毕的模型的准确率 <p>\n",
    "为了提升训练效果，将数据集分片，统一测试完一片数据后再调节W,b(优化器的一步)，实为将自变量的单个向量摆成矩阵，用这个矩阵当训练输入<p>\n",
    "为此（同时，还处于其他考虑如为防止过拟合需要在所有数据过一遍后将其随机化重排列）需要用dataloader包裹dataset(有点类似装饰器)：用dataset初始化dataloader,而后dataloader通过yield构造\n",
    "生成器\n",
    "#### 模型(net)：\n",
    "即所追求的线性映射，包含W,b两个刻画参数，W,b随机初始化，采用[优化器](#优化器)调节得到数值解\n",
    "#### 损失函数：\n",
    "真实值(y)与预测值(y_hat=f(Wx+b))的差距，[优化器](#优化器)用此为依据进行优化<p>\n",
    "ex:平方平均(nn.MESloss),交叉熵(nn.CrossEntropyLoss)\n",
    "#### 优化器(优化算法)：\n",
    "调节W,b的函数，传入net和数据集，利用训练集训练\n",
    "##### <mark>注<mark>\n",
    "此处所谓线性映射其实是线性映射加一个偏置向量的结果，并非真正的线性映射（F(0)!=0）,而是仿射"
   ]
  }
 ],
 "metadata": {
  "kernelspec": {
   "display_name": "Python 3.10.12 64-bit ('torch')",
   "language": "python",
   "name": "python3"
  },
  "language_info": {
   "name": "python",
   "version": "3.10.12"
  },
  "orig_nbformat": 4,
  "vscode": {
   "interpreter": {
    "hash": "e9bb2387fa535eab90a2c1cdf6f7066082a1beb7e1accfe42d575ce58765932d"
   }
  }
 },
 "nbformat": 4,
 "nbformat_minor": 2
}
