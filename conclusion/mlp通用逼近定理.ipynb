{
 "cells": [
  {
   "cell_type": "markdown",
   "metadata": {},
   "source": [
    "## 一个问题(MLP的能力上限):<p>\n",
    "f(x)=Wx+b,仿射，W,b可以更改<p>\n",
    "g(x)是参数不可变的非线性函数<p>\n",
    "则：任意函数h(x),是否存在若干W，b，存在f(),g()的复合方式(复合层数可以无限)y(x)，s.t.任意x,h(x)-y(x)为任意阶无穷小？<p>\n",
    "如Taylor级数用多项式逼近任意（可导等限制）函数,余项可以估计，进而可以通过取特定多的阶数使余项任意小<p>\n",
    "如能，为什么？g(x)有特殊要求吗？(进而是否激活函数任意选取都不改变MLP的理论性能？)<p>\n",
    "如不能，则MLP理论上不可能实现任意小误差的拟合？<p>\n",
    "\n",
    "\n",
    "\n",
    "## 通用逼近定理\n",
    "\n",
    "直观理解：\n",
    "\n",
    "连续函数-->线性分段逼近-->用若干ReLU线性函数+一个常数函数可以组合成任意线性函数-->全连接层多层感知机只需一层隐藏层ReLU(Wx+b)即可,其中b是所加的“常数函数”"
   ]
  }
 ],
 "metadata": {
  "kernelspec": {
   "display_name": "Python 3.10.12 64-bit ('torch')",
   "language": "python",
   "name": "python3"
  },
  "language_info": {
   "name": "python",
   "version": "3.10.12"
  },
  "orig_nbformat": 4,
  "vscode": {
   "interpreter": {
    "hash": "e9bb2387fa535eab90a2c1cdf6f7066082a1beb7e1accfe42d575ce58765932d"
   }
  }
 },
 "nbformat": 4,
 "nbformat_minor": 2
}
