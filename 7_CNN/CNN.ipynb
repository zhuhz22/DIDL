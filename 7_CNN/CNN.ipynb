{
 "cells": [
  {
   "cell_type": "markdown",
   "metadata": {},
   "source": [
    "CNN适合影像设计：<p>\n",
    "两个重要前提：<p>1.重要的pattern看小范围就能确定（因此不必全连接）；<p>2.这个pattern可能出现在任意位置（因此需要用receptive field遍历整个原始张量），且特性与位置无关（因此需要参数共享）\n",
    "\n",
    "filter:共用参数\n",
    "\n",
    "receptive field:局部pattern所处范围（如图片中的鸟嘴）\n",
    "\n",
    "一个filter是考察一种pattern，可以加入多个filter来考察多种pattern\n",
    "\n",
    "Pooling层：缩小输出张量，没有训练参数，类似activation function，减少计算量\n",
    "但弊端是会削弱模型精确性，如AlphaGo就没有应用Pooling层\n",
    "\n",
    "CNN是否适用通用近似定理？加上Pooling层呢？\n",
    "\n",
    "CNN无法处理影像的放大缩小/旋转问题，所以需要在训练时旋转/缩放训练集(data argumentation)"
   ]
  }
 ],
 "metadata": {
  "kernelspec": {
   "display_name": "Python 3.10.12 64-bit ('torch')",
   "language": "python",
   "name": "python3"
  },
  "language_info": {
   "name": "python",
   "version": "3.10.12"
  },
  "orig_nbformat": 4,
  "vscode": {
   "interpreter": {
    "hash": "e9bb2387fa535eab90a2c1cdf6f7066082a1beb7e1accfe42d575ce58765932d"
   }
  }
 },
 "nbformat": 4,
 "nbformat_minor": 2
}
